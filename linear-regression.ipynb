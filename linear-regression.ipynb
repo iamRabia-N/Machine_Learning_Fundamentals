{
 "cells": [
  {
   "cell_type": "markdown",
   "id": "848ad088",
   "metadata": {
    "_cell_guid": "b1076dfc-b9ad-4769-8c92-a6c4dae69d19",
    "_uuid": "8f2839f25d086af736a60e9eeb907d3b93b6e0e5",
    "papermill": {
     "duration": 0.006029,
     "end_time": "2024-07-11T21:19:55.053472",
     "exception": false,
     "start_time": "2024-07-11T21:19:55.047443",
     "status": "completed"
    },
    "tags": []
   },
   "source": [
    "## <a class=\"anchor\" id=\"5\"></a>\n",
    "<div style=\"background-color: #2980b9; padding: 20px; border-radius: 10px; box-shadow: 0 6px 12px rgba(0, 0, 0, 0.1); text-align: center; margin-top: 20px;\">\n",
    "    <h2 style=\"color: #ecf0f1; font-size: 30px; font-weight: bold; margin: 0;\">\n",
    "       Linear Regression\n",
    "    </h2>\n",
    "</div>\n"
   ]
  },
  {
   "cell_type": "markdown",
   "id": "9d81066a",
   "metadata": {
    "papermill": {
     "duration": 0.005167,
     "end_time": "2024-07-11T21:19:55.064324",
     "exception": false,
     "start_time": "2024-07-11T21:19:55.059157",
     "status": "completed"
    },
    "tags": []
   },
   "source": [
    "## Table of Contents\n",
    "\n",
    "1. [Introduction to Linear Regression](#1)\n",
    "2. [History of Linear Regression](#2)\n",
    "3. [Importance in Machine Learning and Statistics](#3)\n",
    "4. [Assumptions of Linear Regression](#4)\n",
    "5. [Implementation of Linear Regression Using NumPy](#5)\n",
    "6. [Implementation of Linear Regression Using Scikit-Learn](#6)\n",
    "7. [Kaggle Challenges and Linear Regression](#7)\n"
   ]
  },
  {
   "cell_type": "markdown",
   "id": "bdb951ad",
   "metadata": {
    "papermill": {
     "duration": 0.005098,
     "end_time": "2024-07-11T21:19:55.074989",
     "exception": false,
     "start_time": "2024-07-11T21:19:55.069891",
     "status": "completed"
    },
    "tags": []
   },
   "source": [
    "## <a class=\"anchor\" id=\"1\"></a>\n",
    "<div style=\"background-color: #e8f6f3; padding: 20px; border-radius: 12px; box-shadow: 0 6px 12px rgba(0, 0, 0, 0.1); text-align: center; margin-top: 20px;\">\n",
    "    <h2 style=\"color: #2c3e50; font-size: 25px; font-weight: bold; margin: 0;\">\n",
    "        Introduction to Linear Regression\n",
    "    </h2>\n",
    "</div>\n",
    "\n",
    "<p>Linear regression is a statistical method used to model the relationship between a dependent variable (target) and one or more independent variables (features). Simple linear regression involves a single feature and is used to predict the target based on the linear relationship. </p>\n",
    "\n",
    "\n",
    "## <a class=\"anchor\" id=\"2\"></a>\n",
    "<div style=\"background-color: #e8f6f3; padding: 20px; border-radius: 12px; box-shadow: 0 6px 12px rgba(0, 0, 0, 0.1); text-align: center; margin-top: 20px;\">\n",
    "    <h2 style=\"color: #2c3e50; font-size: 25px; font-weight: bold; margin: 0;\">\n",
    "        History of Linear Regression\n",
    "    </h2>\n",
    "</div>\n",
    "\n",
    "<p>Linear regression has its roots in the early 19th century. It was initially developed by Carl Friedrich Gauss, a German mathematician and later by Sir Francis Galton, a British statistician. The method was used to study the relationship between different variables such as the correlation between parents' heights and their children's heights.</p>\n",
    "\n",
    "## <a class=\"anchor\" id=\"3\"></a>\n",
    "<div style=\"background-color: #e8f6f3; padding: 20px; border-radius: 12px; box-shadow: 0 6px 12px rgba(0, 0, 0, 0.1); text-align: center; margin-top: 20px;\">\n",
    "    <h2 style=\"color: #2c3e50; font-size: 25px; font-weight: bold; margin: 0;\">\n",
    "        Importance in Machine Learning and Statistics\n",
    "    </h2>\n",
    "</div>\n",
    "\n",
    "<p>Linear regression is highly important in both machine learning and statistics because it's simple and helps us understand how different things relate to each other. In machine learning, it's a basic way to see how variables connect which is great for beginners and as a starting point for more complicated models. It's also good at handling big sets of data. In statistics, linear regression is key for testing ideas and figuring out how one thing affects another. The numbers in the model tell us how strong these connections are which helps people make decisions based on data.</p>\n",
    "\n",
    "## <a class=\"anchor\" id=\"4\"></a>\n",
    "<div style=\"background-color: #e8f6f3; padding: 20px; border-radius: 12px; box-shadow: 0 6px 12px rgba(0, 0, 0, 0.1); text-align: center; margin-top: 20px;\">\n",
    "    <h2 style=\"color: #2c3e50; font-size: 25px; font-weight: bold; margin: 0;\">\n",
    "        Assumptions of Linear Regression\n",
    "    </h2>\n",
    "</div>\n",
    "\n",
    "<ul>\n",
    "    <li>The relationship between the dependent and independent variables should be linear.</li>\n",
    "    <li>Observations should be independent.</li>\n",
    "    <li>The variance of the error terms should be constant.</li>\n",
    "    <li>The error terms should be normally distributed.</li>\n",
    "    <li>Independent variables should not be too highly correlated.</li>\n",
    "</ul>\n",
    "\n",
    "## <a class=\"anchor\" id=\"5\"></a>\n",
    "<div style=\"background-color: #e8f6f3; padding: 20px; border-radius: 12px; box-shadow: 0 6px 12px rgba(0, 0, 0, 0.1); text-align: center; margin-top: 20px;\">\n",
    "    <h2 style=\"color: #2c3e50; font-size: 25px; font-weight: bold; margin: 0;\">\n",
    "        Implementation of Linear Regression Using NumPy\n",
    "    </h2>\n",
    "</div>\n",
    "\n",
    "<p>Let's start by implementing linear regression from scratch using NumPy.</p>\n"
   ]
  },
  {
   "cell_type": "markdown",
   "id": "450ac355",
   "metadata": {
    "papermill": {
     "duration": 0.005187,
     "end_time": "2024-07-11T21:19:55.085664",
     "exception": false,
     "start_time": "2024-07-11T21:19:55.080477",
     "status": "completed"
    },
    "tags": []
   },
   "source": [
    "## Step 1: Data Preparation¶\n",
    "\n",
    "We'll use a simple dataset for demonstration:\n",
    "\n",
    "    House sizes (1000 sqft): [1.0, 2.0, 3.0]\n",
    "    Prices (1000s of dollars): [300.0, 500.0, 700.0]\n"
   ]
  },
  {
   "cell_type": "code",
   "execution_count": 1,
   "id": "859e513f",
   "metadata": {
    "execution": {
     "iopub.execute_input": "2024-07-11T21:19:55.098479Z",
     "iopub.status.busy": "2024-07-11T21:19:55.097997Z",
     "iopub.status.idle": "2024-07-11T21:19:55.113812Z",
     "shell.execute_reply": "2024-07-11T21:19:55.112568Z"
    },
    "papermill": {
     "duration": 0.025072,
     "end_time": "2024-07-11T21:19:55.116160",
     "exception": false,
     "start_time": "2024-07-11T21:19:55.091088",
     "status": "completed"
    },
    "tags": []
   },
   "outputs": [
    {
     "name": "stdout",
     "output_type": "stream",
     "text": [
      "x_train = [1. 2. 3.]\n",
      "y_train = [300. 500. 700.]\n"
     ]
    }
   ],
   "source": [
    "import numpy as np\n",
    "import matplotlib.pyplot as plt\n",
    "\n",
    "x_train = np.array([1.0, 2.0, 3.0])\n",
    "y_train = np.array([300.0, 500.0, 700.0])\n",
    "\n",
    "print(f\"x_train = {x_train}\")\n",
    "print(f\"y_train = {y_train}\")"
   ]
  },
  {
   "cell_type": "markdown",
   "id": "e39b46c9",
   "metadata": {
    "papermill": {
     "duration": 0.005468,
     "end_time": "2024-07-11T21:19:55.127283",
     "exception": false,
     "start_time": "2024-07-11T21:19:55.121815",
     "status": "completed"
    },
    "tags": []
   },
   "source": [
    "## Step 2: Exploratory Data Analysis\n",
    "\n",
    "Visualize the data to understand the relationship between size and price."
   ]
  },
  {
   "cell_type": "code",
   "execution_count": 2,
   "id": "58873f49",
   "metadata": {
    "execution": {
     "iopub.execute_input": "2024-07-11T21:19:55.140383Z",
     "iopub.status.busy": "2024-07-11T21:19:55.139859Z",
     "iopub.status.idle": "2024-07-11T21:19:55.412903Z",
     "shell.execute_reply": "2024-07-11T21:19:55.411674Z"
    },
    "papermill": {
     "duration": 0.28252,
     "end_time": "2024-07-11T21:19:55.415477",
     "exception": false,
     "start_time": "2024-07-11T21:19:55.132957",
     "status": "completed"
    },
    "tags": []
   },
   "outputs": [
    {
     "data": {
      "image/png": "[encoded data removed]",
      "text/plain": [
       "<Figure size 640x480 with 1 Axes>"
      ]
     },
     "metadata": {},
     "output_type": "display_data"
    }
   ],
   "source": [
    "plt.scatter(x_train, y_train, marker='x', c='r')\n",
    "plt.title(\"Housing Prices\")\n",
    "plt.xlabel('Size (1000 sqft)')\n",
    "plt.ylabel('Price (1000s of dollars)')\n",
    "plt.show()"
   ]
  },
  {
   "cell_type": "markdown",
   "id": "501c0aa8",
   "metadata": {
    "papermill": {
     "duration": 0.006029,
     "end_time": "2024-07-11T21:19:55.427748",
     "exception": false,
     "start_time": "2024-07-11T21:19:55.421719",
     "status": "completed"
    },
    "tags": []
   },
   "source": [
    "## Step 3: Model Definition\n",
    "\n",
    "Define the hypothesis function and cost function. \n",
    "\n",
    "In linear regression, the hypothesis function predicts an output based on input data. It's like a rule or equation that the model uses to make predictions.\n",
    "\n",
    "The cost function measures how wrong the model's predictions are compared to the actual data. It quantifies the difference between predicted values and observed values."
   ]
  },
  {
   "cell_type": "code",
   "execution_count": 3,
   "id": "64427648",
   "metadata": {
    "execution": {
     "iopub.execute_input": "2024-07-11T21:19:55.441961Z",
     "iopub.status.busy": "2024-07-11T21:19:55.441575Z",
     "iopub.status.idle": "2024-07-11T21:19:55.447441Z",
     "shell.execute_reply": "2024-07-11T21:19:55.446351Z"
    },
    "papermill": {
     "duration": 0.015454,
     "end_time": "2024-07-11T21:19:55.449541",
     "exception": false,
     "start_time": "2024-07-11T21:19:55.434087",
     "status": "completed"
    },
    "tags": []
   },
   "outputs": [],
   "source": [
    "def compute_cost(x, y, w, b):\n",
    "    m = x.shape[0]\n",
    "    cost = 0\n",
    "    for i in range(m):\n",
    "        f_wb = w * x[i] + b\n",
    "        cost += (f_wb - y[i]) ** 2\n",
    "    return cost / (2 * m)"
   ]
  },
  {
   "cell_type": "markdown",
   "id": "cd1f8995",
   "metadata": {
    "papermill": {
     "duration": 0.00598,
     "end_time": "2024-07-11T21:19:55.461699",
     "exception": false,
     "start_time": "2024-07-11T21:19:55.455719",
     "status": "completed"
    },
    "tags": []
   },
   "source": [
    "## Step 4: Gradient Descent\n",
    "\n",
    "Gradient descent is an optimization algorithm used to minimize the cost function of a machine learning model. It works by iteratively adjusting the model's parameters in the direction that reduces the cost function the most. Think of the cost function as a bowl-shaped surface in a multi-dimensional space where each dimension represents a model parameter. The goal of gradient descent is to find the lowest point (global minimum) of this bowl which corresponds to the optimal values of the model parameters that best fit the data. By calculating the gradient (slope) of the cost function with respect to each parameter, gradient descent determines the direction and magnitude of parameter updates. It repeats this process iteratively until convergence gradually refining the model's predictions to improve accuracy.\n",
    "\n",
    "Implement the gradient descent algorithm:"
   ]
  },
  {
   "cell_type": "code",
   "execution_count": 4,
   "id": "e04a5bbb",
   "metadata": {
    "execution": {
     "iopub.execute_input": "2024-07-11T21:19:55.475677Z",
     "iopub.status.busy": "2024-07-11T21:19:55.475276Z",
     "iopub.status.idle": "2024-07-11T21:19:55.481976Z",
     "shell.execute_reply": "2024-07-11T21:19:55.480934Z"
    },
    "papermill": {
     "duration": 0.016525,
     "end_time": "2024-07-11T21:19:55.484389",
     "exception": false,
     "start_time": "2024-07-11T21:19:55.467864",
     "status": "completed"
    },
    "tags": []
   },
   "outputs": [],
   "source": [
    "def gradient_descent(x, y, w, b, alpha, num_iters):\n",
    "    m = x.shape[0]\n",
    "    for _ in range(num_iters):\n",
    "        dj_dw = 0\n",
    "        dj_db = 0\n",
    "        for i in range(m):\n",
    "            f_wb = w * x[i] + b\n",
    "            dj_dw += (f_wb - y[i]) * x[i]\n",
    "            dj_db += (f_wb - y[i])\n",
    "        w -= alpha * dj_dw / m\n",
    "        b -= alpha * dj_db / m\n",
    "    return w, b"
   ]
  },
  {
   "cell_type": "markdown",
   "id": "922e1720",
   "metadata": {
    "papermill": {
     "duration": 0.006006,
     "end_time": "2024-07-11T21:19:55.496663",
     "exception": false,
     "start_time": "2024-07-11T21:19:55.490657",
     "status": "completed"
    },
    "tags": []
   },
   "source": [
    "## Step 5: Training the Model\n",
    "\n",
    "Train the model using gradient descent:"
   ]
  },
  {
   "cell_type": "code",
   "execution_count": 5,
   "id": "893cb132",
   "metadata": {
    "execution": {
     "iopub.execute_input": "2024-07-11T21:19:55.510709Z",
     "iopub.status.busy": "2024-07-11T21:19:55.510320Z",
     "iopub.status.idle": "2024-07-11T21:19:55.520897Z",
     "shell.execute_reply": "2024-07-11T21:19:55.519674Z"
    },
    "papermill": {
     "duration": 0.02064,
     "end_time": "2024-07-11T21:19:55.523474",
     "exception": false,
     "start_time": "2024-07-11T21:19:55.502834",
     "status": "completed"
    },
    "tags": []
   },
   "outputs": [
    {
     "name": "stdout",
     "output_type": "stream",
     "text": [
      "w: 201.33075881026207, b: 96.97487242984855\n"
     ]
    }
   ],
   "source": [
    "w = 0\n",
    "b = 0\n",
    "alpha = 0.01\n",
    "num_iters = 1000\n",
    "\n",
    "w, b = gradient_descent(x_train, y_train, w, b, alpha, num_iters)\n",
    "print(f\"w: {w}, b: {b}\")"
   ]
  },
  {
   "cell_type": "markdown",
   "id": "20fb2a80",
   "metadata": {
    "papermill": {
     "duration": 0.006629,
     "end_time": "2024-07-11T21:19:55.536493",
     "exception": false,
     "start_time": "2024-07-11T21:19:55.529864",
     "status": "completed"
    },
    "tags": []
   },
   "source": [
    "## Step 6: Visualizing the Result\n",
    "\n",
    "Plot the data and the regression line:"
   ]
  },
  {
   "cell_type": "code",
   "execution_count": 6,
   "id": "c3586488",
   "metadata": {
    "execution": {
     "iopub.execute_input": "2024-07-11T21:19:55.552107Z",
     "iopub.status.busy": "2024-07-11T21:19:55.551681Z",
     "iopub.status.idle": "2024-07-11T21:19:55.865300Z",
     "shell.execute_reply": "2024-07-11T21:19:55.864211Z"
    },
    "papermill": {
     "duration": 0.323638,
     "end_time": "2024-07-11T21:19:55.867554",
     "exception": false,
     "start_time": "2024-07-11T21:19:55.543916",
     "status": "completed"
    },
    "tags": []
   },
   "outputs": [
    {
     "data": {
      "image/png": "[encoded data removed]",
      "text/plain": [
       "<Figure size 640x480 with 1 Axes>"
      ]
     },
     "metadata": {},
     "output_type": "display_data"
    }
   ],
   "source": [
    "plt.scatter(x_train, y_train, marker='x', c='r', label='Training Data')\n",
    "plt.plot(x_train, w * x_train + b, label='Linear Regression')\n",
    "plt.title(\"Housing Prices\")\n",
    "plt.xlabel('Size (1000 sqft)')\n",
    "plt.ylabel('Price (1000s of dollars)')\n",
    "plt.legend()\n",
    "plt.show()"
   ]
  },
  {
   "cell_type": "markdown",
   "id": "90c9dfdf",
   "metadata": {
    "papermill": {
     "duration": 0.006534,
     "end_time": "2024-07-11T21:19:55.880978",
     "exception": false,
     "start_time": "2024-07-11T21:19:55.874444",
     "status": "completed"
    },
    "tags": []
   },
   "source": [
    "## <a class=\"anchor\" id=\"6\"></a>\n",
    "<div style=\"background-color: #e8f6f3; padding: 20px; border-radius: 12px; box-shadow: 0 6px 12px rgba(0, 0, 0, 0.1); text-align: center; margin-top: 20px;\">\n",
    "    <h2 style=\"color: #2c3e50; font-size: 25px; font-weight: bold; margin: 0;\">\n",
    "        Implementation of Linear Regression Using Scikit-Learn\n",
    "    </h2>\n",
    "</div>\n",
    "\n",
    "\n",
    "<p>Now, let's implement linear regression using the scikit-learn library which simplifies the process.</p>\n",
    "\n",
    "## Step 1: Data Preparation\n",
    "\n",
    "We'll use the same dataset as before:"
   ]
  },
  {
   "cell_type": "code",
   "execution_count": 7,
   "id": "ad618d95",
   "metadata": {
    "execution": {
     "iopub.execute_input": "2024-07-11T21:19:55.896868Z",
     "iopub.status.busy": "2024-07-11T21:19:55.895944Z",
     "iopub.status.idle": "2024-07-11T21:19:57.210663Z",
     "shell.execute_reply": "2024-07-11T21:19:57.209496Z"
    },
    "papermill": {
     "duration": 1.325659,
     "end_time": "2024-07-11T21:19:57.213409",
     "exception": false,
     "start_time": "2024-07-11T21:19:55.887750",
     "status": "completed"
    },
    "tags": []
   },
   "outputs": [],
   "source": [
    "from sklearn.model_selection import train_test_split\n",
    "\n",
    "X = x_train.reshape(-1, 1)\n",
    "y = y_train\n",
    "\n",
    "X_train, X_test, y_train, y_test = train_test_split(X, y, test_size=0.2, random_state=42)"
   ]
  },
  {
   "cell_type": "markdown",
   "id": "e183939a",
   "metadata": {
    "papermill": {
     "duration": 0.006549,
     "end_time": "2024-07-11T21:19:57.227011",
     "exception": false,
     "start_time": "2024-07-11T21:19:57.220462",
     "status": "completed"
    },
    "tags": []
   },
   "source": [
    "## Step 2: Training the Model\n",
    "\n",
    "Train the model using scikit-learn's `LinearRegression` class:"
   ]
  },
  {
   "cell_type": "code",
   "execution_count": 8,
   "id": "a4cb0b11",
   "metadata": {
    "execution": {
     "iopub.execute_input": "2024-07-11T21:19:57.242708Z",
     "iopub.status.busy": "2024-07-11T21:19:57.242296Z",
     "iopub.status.idle": "2024-07-11T21:19:57.351548Z",
     "shell.execute_reply": "2024-07-11T21:19:57.350465Z"
    },
    "papermill": {
     "duration": 0.120344,
     "end_time": "2024-07-11T21:19:57.354226",
     "exception": false,
     "start_time": "2024-07-11T21:19:57.233882",
     "status": "completed"
    },
    "tags": []
   },
   "outputs": [
    {
     "data": {
      "text/html": [
       "<style>#sk-container-id-1 {color: black;background-color: white;}#sk-container-id-1 pre{padding: 0;}#sk-container-id-1 div.sk-toggleable {background-color: white;}#sk-container-id-1 label.sk-toggleable__label {cursor: pointer;display: block;width: 100%;margin-bottom: 0;padding: 0.3em;box-sizing: border-box;text-align: center;}#sk-container-id-1 label.sk-toggleable__label-arrow:before {content: \"▸\";float: left;margin-right: 0.25em;color: #696969;}#sk-container-id-1 label.sk-toggleable__label-arrow:hover:before {color: black;}#sk-container-id-1 div.sk-estimator:hover label.sk-toggleable__label-arrow:before {color: black;}#sk-container-id-1 div.sk-toggleable__content {max-height: 0;max-width: 0;overflow: hidden;text-align: left;background-color: #f0f8ff;}#sk-container-id-1 div.sk-toggleable__content pre {margin: 0.2em;color: black;border-radius: 0.25em;background-color: #f0f8ff;}#sk-container-id-1 input.sk-toggleable__control:checked~div.sk-toggleable__content {max-height: 200px;max-width: 100%;overflow: auto;}#sk-container-id-1 input.sk-toggleable__control:checked~label.sk-toggleable__label-arrow:before {content: \"▾\";}#sk-container-id-1 div.sk-estimator input.sk-toggleable__control:checked~label.sk-toggleable__label {background-color: #d4ebff;}#sk-container-id-1 div.sk-label input.sk-toggleable__control:checked~label.sk-toggleable__label {background-color: #d4ebff;}#sk-container-id-1 input.sk-hidden--visually {border: 0;clip: rect(1px 1px 1px 1px);clip: rect(1px, 1px, 1px, 1px);height: 1px;margin: -1px;overflow: hidden;padding: 0;position: absolute;width: 1px;}#sk-container-id-1 div.sk-estimator {font-family: monospace;background-color: #f0f8ff;border: 1px dotted black;border-radius: 0.25em;box-sizing: border-box;margin-bottom: 0.5em;}#sk-container-id-1 div.sk-estimator:hover {background-color: #d4ebff;}#sk-container-id-1 div.sk-parallel-item::after {content: \"\";width: 100%;border-bottom: 1px solid gray;flex-grow: 1;}#sk-container-id-1 div.sk-label:hover label.sk-toggleable__label {background-color: #d4ebff;}#sk-container-id-1 div.sk-serial::before {content: \"\";position: absolute;border-left: 1px solid gray;box-sizing: border-box;top: 0;bottom: 0;left: 50%;z-index: 0;}#sk-container-id-1 div.sk-serial {display: flex;flex-direction: column;align-items: center;background-color: white;padding-right: 0.2em;padding-left: 0.2em;position: relative;}#sk-container-id-1 div.sk-item {position: relative;z-index: 1;}#sk-container-id-1 div.sk-parallel {display: flex;align-items: stretch;justify-content: center;background-color: white;position: relative;}#sk-container-id-1 div.sk-item::before, #sk-container-id-1 div.sk-parallel-item::before {content: \"\";position: absolute;border-left: 1px solid gray;box-sizing: border-box;top: 0;bottom: 0;left: 50%;z-index: -1;}#sk-container-id-1 div.sk-parallel-item {display: flex;flex-direction: column;z-index: 1;position: relative;background-color: white;}#sk-container-id-1 div.sk-parallel-item:first-child::after {align-self: flex-end;width: 50%;}#sk-container-id-1 div.sk-parallel-item:last-child::after {align-self: flex-start;width: 50%;}#sk-container-id-1 div.sk-parallel-item:only-child::after {width: 0;}#sk-container-id-1 div.sk-dashed-wrapped {border: 1px dashed gray;margin: 0 0.4em 0.5em 0.4em;box-sizing: border-box;padding-bottom: 0.4em;background-color: white;}#sk-container-id-1 div.sk-label label {font-family: monospace;font-weight: bold;display: inline-block;line-height: 1.2em;}#sk-container-id-1 div.sk-label-container {text-align: center;}#sk-container-id-1 div.sk-container {/* jupyter's `normalize.less` sets `[hidden] { display: none; }` but bootstrap.min.css set `[hidden] { display: none !important; }` so we also need the `!important` here to be able to override the default hidden behavior on the sphinx rendered scikit-learn.org. See: https://github.com/scikit-learn/scikit-learn/issues/21755 */display: inline-block !important;position: relative;}#sk-container-id-1 div.sk-text-repr-fallback {display: none;}</style><div id=\"sk-container-id-1\" class=\"sk-top-container\"><div class=\"sk-text-repr-fallback\"><pre>LinearRegression()</pre><b>In a Jupyter environment, please rerun this cell to show the HTML representation or trust the notebook. <br />On GitHub, the HTML representation is unable to render, please try loading this page with nbviewer.org.</b></div><div class=\"sk-container\" hidden><div class=\"sk-item\"><div class=\"sk-estimator sk-toggleable\"><input class=\"sk-toggleable__control sk-hidden--visually\" id=\"sk-estimator-id-1\" type=\"checkbox\" checked><label for=\"sk-estimator-id-1\" class=\"sk-toggleable__label sk-toggleable__label-arrow\">LinearRegression</label><div class=\"sk-toggleable__content\"><pre>LinearRegression()</pre></div></div></div></div></div>"
      ],
      "text/plain": [
       "LinearRegression()"
      ]
     },
     "execution_count": 8,
     "metadata": {},
     "output_type": "execute_result"
    }
   ],
   "source": [
    "from sklearn.linear_model import LinearRegression\n",
    "\n",
    "model = LinearRegression()\n",
    "model.fit(X_train, y_train)"
   ]
  },
  {
   "cell_type": "markdown",
   "id": "eb781f13",
   "metadata": {
    "papermill": {
     "duration": 0.006824,
     "end_time": "2024-07-11T21:19:57.368465",
     "exception": false,
     "start_time": "2024-07-11T21:19:57.361641",
     "status": "completed"
    },
    "tags": []
   },
   "source": [
    "## Step 3: Model Parameters\n",
    "\n",
    "Get the model parameters (slope and intercept):\n"
   ]
  },
  {
   "cell_type": "code",
   "execution_count": 9,
   "id": "4c19ec72",
   "metadata": {
    "execution": {
     "iopub.execute_input": "2024-07-11T21:19:57.384753Z",
     "iopub.status.busy": "2024-07-11T21:19:57.384337Z",
     "iopub.status.idle": "2024-07-11T21:19:57.390148Z",
     "shell.execute_reply": "2024-07-11T21:19:57.389133Z"
    },
    "papermill": {
     "duration": 0.017077,
     "end_time": "2024-07-11T21:19:57.392656",
     "exception": false,
     "start_time": "2024-07-11T21:19:57.375579",
     "status": "completed"
    },
    "tags": []
   },
   "outputs": [
    {
     "name": "stdout",
     "output_type": "stream",
     "text": [
      "w: 199.99999999999994, b: 100.00000000000011\n"
     ]
    }
   ],
   "source": [
    "print(f\"w: {model.coef_[0]}, b: {model.intercept_}\")"
   ]
  },
  {
   "cell_type": "markdown",
   "id": "d8c917c5",
   "metadata": {
    "papermill": {
     "duration": 0.006929,
     "end_time": "2024-07-11T21:19:57.407246",
     "exception": false,
     "start_time": "2024-07-11T21:19:57.400317",
     "status": "completed"
    },
    "tags": []
   },
   "source": [
    "## 4. Model Evaluation\n",
    "\n",
    "Evaluate the model's performance using metrics such as mean squared error (MSE) and r-squared:\n"
   ]
  },
  {
   "cell_type": "code",
   "execution_count": 10,
   "id": "35fdb358",
   "metadata": {
    "execution": {
     "iopub.execute_input": "2024-07-11T21:19:57.423532Z",
     "iopub.status.busy": "2024-07-11T21:19:57.423057Z",
     "iopub.status.idle": "2024-07-11T21:19:57.431434Z",
     "shell.execute_reply": "2024-07-11T21:19:57.430211Z"
    },
    "papermill": {
     "duration": 0.01916,
     "end_time": "2024-07-11T21:19:57.433628",
     "exception": false,
     "start_time": "2024-07-11T21:19:57.414468",
     "status": "completed"
    },
    "tags": []
   },
   "outputs": [
    {
     "name": "stdout",
     "output_type": "stream",
     "text": [
      "Mean Squared Error: 6.462348535570529e-27\n",
      "R-squared: 1.0\n"
     ]
    }
   ],
   "source": [
    "from sklearn.metrics import mean_squared_error, r2_score\n",
    "\n",
    "y_pred = model.predict(X_train)\n",
    "mse = mean_squared_error(y_train, y_pred)\n",
    "r2 = r2_score(y_train, y_pred)\n",
    "\n",
    "print(f\"Mean Squared Error: {mse}\")\n",
    "print(f\"R-squared: {r2}\")"
   ]
  },
  {
   "cell_type": "markdown",
   "id": "61238722",
   "metadata": {
    "papermill": {
     "duration": 0.006985,
     "end_time": "2024-07-11T21:19:57.448052",
     "exception": false,
     "start_time": "2024-07-11T21:19:57.441067",
     "status": "completed"
    },
    "tags": []
   },
   "source": [
    "## 5. Making Predictions\n",
    "\n",
    "Use the trained model to make predictions for new data points:"
   ]
  },
  {
   "cell_type": "code",
   "execution_count": 11,
   "id": "7909d684",
   "metadata": {
    "execution": {
     "iopub.execute_input": "2024-07-11T21:19:57.464548Z",
     "iopub.status.busy": "2024-07-11T21:19:57.463783Z",
     "iopub.status.idle": "2024-07-11T21:19:57.470486Z",
     "shell.execute_reply": "2024-07-11T21:19:57.469246Z"
    },
    "papermill": {
     "duration": 0.017598,
     "end_time": "2024-07-11T21:19:57.472838",
     "exception": false,
     "start_time": "2024-07-11T21:19:57.455240",
     "status": "completed"
    },
    "tags": []
   },
   "outputs": [
    {
     "name": "stdout",
     "output_type": "stream",
     "text": [
      "Predicted price for a house with 1200 sqft: $340 thousand dollars\n"
     ]
    }
   ],
   "source": [
    "new_house_size = np.array([[1.2]])  # 1200 sqft\n",
    "predicted_price = model.predict(new_house_size)\n",
    "print(f\"Predicted price for a house with 1200 sqft: ${predicted_price[0]:.0f} thousand dollars\")"
   ]
  },
  {
   "cell_type": "markdown",
   "id": "6b1e23c7",
   "metadata": {
    "papermill": {
     "duration": 0.00697,
     "end_time": "2024-07-11T21:19:57.487362",
     "exception": false,
     "start_time": "2024-07-11T21:19:57.480392",
     "status": "completed"
    },
    "tags": []
   },
   "source": [
    "## <a class=\"anchor\" id=\"7\"></a>\n",
    "<div style=\"background-color: #e8f6f3; padding: 20px; border-radius: 12px; box-shadow: 0 6px 12px rgba(0, 0, 0, 0.1); text-align: center; margin-top: 20px;\">\n",
    "    <h2 style=\"color: #2c3e50; font-size: 25px; font-weight: bold; margin: 0;\">\n",
    "        Kaggle Challenges and Linear Regression\n",
    "    </h2>\n",
    "</div>\n",
    "\n",
    "<ul>\n",
    "    <li><a href=\"https://www.kaggle.com/c/house-prices-advanced-regression-techniques\">House Prices - Advanced Regression Techniques</a></li>\n",
    "    <li><a href=\"https://www.kaggle.com/c/competitive-data-science-predict-future-sales\">Predict Future Sales</a></li>\n",
    "    <li><a href=\"https://www.kaggle.com/c/new-york-city-taxi-fare-prediction\">New York City Taxi Fare Prediction</a></li>\n",
    "    <li><a href=\"https://www.kaggle.com/c/mercari-price-suggestion-challenge\">Mercari Price Suggestion Challenge</a></li>\n",
    "</ul>\n"
   ]
  }
 ],
 "metadata": {
  "kaggle": {
   "accelerator": "none",
   "dataSources": [],
   "dockerImageVersionId": 30746,
   "isGpuEnabled": false,
   "isInternetEnabled": true,
   "language": "python",
   "sourceType": "notebook"
  },
  "kernelspec": {
   "display_name": "Python 3",
   "language": "python",
   "name": "python3"
  },
  "language_info": {
   "codemirror_mode": {
    "name": "ipython",
    "version": 3
   },
   "file_extension": ".py",
   "mimetype": "text/x-python",
   "name": "python",
   "nbconvert_exporter": "python",
   "pygments_lexer": "ipython3",
   "version": "3.10.13"
  },
  "papermill": {
   "default_parameters": {},
   "duration": 6.116912,
   "end_time": "2024-07-11T21:19:58.015845",
   "environment_variables": {},
   "exception": null,
   "input_path": "__notebook__.ipynb",
   "output_path": "__notebook__.ipynb",
   "parameters": {},
   "start_time": "2024-07-11T21:19:51.898933",
   "version": "2.5.0"
  }
 },
 "nbformat": 4,
 "nbformat_minor": 5
}
