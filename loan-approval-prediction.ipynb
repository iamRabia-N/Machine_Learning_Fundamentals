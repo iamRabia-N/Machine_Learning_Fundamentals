{
 "cells": [
  {
   "cell_type": "markdown",
   "id": "78bba9a6",
   "metadata": {
    "papermill": {
     "duration": 0.004108,
     "end_time": "2024-12-03T09:04:24.261504",
     "exception": false,
     "start_time": "2024-12-03T09:04:24.257396",
     "status": "completed"
    },
    "tags": []
   },
   "source": [
    "<div style=\"\n",
    "    background: linear-gradient(135deg, #6a11cb, #2575fc); \n",
    "    padding: 30px; \n",
    "    border-radius: 25px; \n",
    "    box-shadow: 0 12px 30px rgba(0, 0, 0, 0.4), inset 0 1px 2px rgba(255, 255, 255, 0.2); \n",
    "    text-align: center; \n",
    "    margin: 40px auto; \n",
    "    max-width: 800px; \n",
    "    border: 3px solid rgba(255, 255, 255, 0.2); \n",
    "    transition: all 0.3s ease-in-out;\">\n",
    "    <h2 style=\"\n",
    "        color: #ffffff; \n",
    "        font-size: 24px; \n",
    "        font-weight: 900; \n",
    "        font-family: 'Poppins', sans-serif; \n",
    "        margin: 0; \n",
    "        text-shadow: 3px 3px 6px rgba(0, 0, 0, 0.3), 0 0 10px rgba(255, 255, 255, 0.7); \n",
    "        letter-spacing: 1px; \n",
    "        text-transform: uppercase;\">\n",
    "        🚀 Data Preprocessing and Feature Engineering\n",
    "    </h2>\n",
    "</div>\n"
   ]
  },
  {
   "cell_type": "code",
   "execution_count": 1,
   "id": "10350fa3",
   "metadata": {
    "execution": {
     "iopub.execute_input": "2024-12-03T09:04:24.270277Z",
     "iopub.status.busy": "2024-12-03T09:04:24.269879Z",
     "iopub.status.idle": "2024-12-03T09:04:40.895623Z",
     "shell.execute_reply": "2024-12-03T09:04:40.894666Z"
    },
    "papermill": {
     "duration": 16.633094,
     "end_time": "2024-12-03T09:04:40.898211",
     "exception": false,
     "start_time": "2024-12-03T09:04:24.265117",
     "status": "completed"
    },
    "tags": []
   },
   "outputs": [],
   "source": [
    "import pandas as pd\n",
    "import numpy as np\n",
    "from sklearn.model_selection import train_test_split\n",
    "from sklearn.metrics import roc_auc_score, accuracy_score\n",
    "from sklearn.preprocessing import LabelEncoder, StandardScaler\n",
    "from sklearn.preprocessing import StandardScaler\n",
    "import xgboost as xgb\n",
    "import catboost as cb\n",
    "from sklearn.ensemble import RandomForestClassifier, ExtraTreesClassifier\n",
    "from sklearn.impute import SimpleImputer\n",
    "import matplotlib.pyplot as plt\n",
    "import seaborn as sns\n",
    "import tensorflow as tf\n",
    "from tensorflow.keras import layers, models\n",
    "import warnings\n",
    "warnings.filterwarnings(\"ignore\")\n",
    "\n",
    "df = pd.read_csv('/kaggle/input/playground-series-s4e10/train.csv')\n",
    "\n",
    "numerical_cols = df.select_dtypes(include=[np.number]).columns.tolist()\n",
    "categorical_cols = df.select_dtypes(include=[object]).columns.tolist()\n",
    "\n",
    "numerical_cols.remove('loan_status')\n",
    "\n",
    "scaler = StandardScaler()\n",
    "df[numerical_cols] = scaler.fit_transform(df[numerical_cols])\n",
    "\n",
    "label_encoder = LabelEncoder()\n",
    "for col in categorical_cols:\n",
    "    df[col] = label_encoder.fit_transform(df[col])\n",
    "\n",
    "y = df['loan_status']\n",
    "if not np.array_equal(np.unique(y), [0, 1]):\n",
    "    label_encoder = LabelEncoder()\n",
    "    y = label_encoder.fit_transform(y)\n",
    "\n",
    "X = df.drop('loan_status', axis=1)\n",
    "X_train, X_val, y_train, y_val = train_test_split(X, y, test_size=0.2, random_state=42)"
   ]
  },
  {
   "cell_type": "markdown",
   "id": "18f434b0",
   "metadata": {
    "papermill": {
     "duration": 0.003227,
     "end_time": "2024-12-03T09:04:40.905126",
     "exception": false,
     "start_time": "2024-12-03T09:04:40.901899",
     "status": "completed"
    },
    "tags": []
   },
   "source": [
    "<div style=\"\n",
    "    background: linear-gradient(135deg, #6a11cb, #2575fc); \n",
    "    padding: 30px; \n",
    "    border-radius: 25px; \n",
    "    box-shadow: 0 12px 30px rgba(0, 0, 0, 0.4), inset 0 1px 2px rgba(255, 255, 255, 0.2); \n",
    "    text-align: center; \n",
    "    margin: 40px auto; \n",
    "    max-width: 800px; \n",
    "    border: 3px solid rgba(255, 255, 255, 0.2); \n",
    "    transition: all 0.3s ease-in-out;\">\n",
    "    <h2 style=\"\n",
    "        color: #ffffff; \n",
    "        font-size: 24px; \n",
    "        font-weight: 900; \n",
    "        font-family: 'Poppins', sans-serif; \n",
    "        margin: 0; \n",
    "        text-shadow: 3px 3px 6px rgba(0, 0, 0, 0.3), 0 0 10px rgba(255, 255, 255, 0.7); \n",
    "        letter-spacing: 1px; \n",
    "        text-transform: uppercase;\">\n",
    "        🔹 XGBoost Model Training and Evaluation\n",
    "    </h2>\n",
    "</div>\n"
   ]
  },
  {
   "cell_type": "code",
   "execution_count": 2,
   "id": "946e254c",
   "metadata": {
    "execution": {
     "iopub.execute_input": "2024-12-03T09:04:40.913362Z",
     "iopub.status.busy": "2024-12-03T09:04:40.912978Z",
     "iopub.status.idle": "2024-12-03T09:04:41.338691Z",
     "shell.execute_reply": "2024-12-03T09:04:41.337268Z"
    },
    "papermill": {
     "duration": 0.433557,
     "end_time": "2024-12-03T09:04:41.341939",
     "exception": false,
     "start_time": "2024-12-03T09:04:40.908382",
     "status": "completed"
    },
    "tags": []
   },
   "outputs": [
    {
     "name": "stdout",
     "output_type": "stream",
     "text": [
      "XGBoost Accuracy: 0.9525961292522807\n",
      "XGBoost AUC-ROC: 0.9544392530417765\n"
     ]
    }
   ],
   "source": [
    "xgb_model = xgb.XGBClassifier(eval_metric=\"logloss\", random_state=42)\n",
    "xgb_model.fit(X_train, y_train)\n",
    "\n",
    "y_pred_xgb = xgb_model.predict(X_val)\n",
    "y_pred_proba_xgb = xgb_model.predict_proba(X_val)[:, 1]\n",
    "\n",
    "print(\"XGBoost Accuracy:\", accuracy_score(y_val, y_pred_xgb))\n",
    "print(\"XGBoost AUC-ROC:\", roc_auc_score(y_val, y_pred_proba_xgb))"
   ]
  },
  {
   "cell_type": "markdown",
   "id": "687c000d",
   "metadata": {
    "papermill": {
     "duration": 0.005371,
     "end_time": "2024-12-03T09:04:41.353309",
     "exception": false,
     "start_time": "2024-12-03T09:04:41.347938",
     "status": "completed"
    },
    "tags": []
   },
   "source": [
    "<div style=\"\n",
    "    background: linear-gradient(135deg, #6a11cb, #2575fc); \n",
    "    padding: 30px; \n",
    "    border-radius: 25px; \n",
    "    box-shadow: 0 12px 30px rgba(0, 0, 0, 0.4), inset 0 1px 2px rgba(255, 255, 255, 0.2); \n",
    "    text-align: center; \n",
    "    margin: 40px auto; \n",
    "    max-width: 800px; \n",
    "    border: 3px solid rgba(255, 255, 255, 0.2); \n",
    "    transition: all 0.3s ease-in-out;\">\n",
    "    <h2 style=\"\n",
    "        color: #ffffff; \n",
    "        font-size: 24px; \n",
    "        font-weight: 900; \n",
    "        font-family: 'Poppins', sans-serif; \n",
    "        margin: 0; \n",
    "        text-shadow: 3px 3px 6px rgba(0, 0, 0, 0.3), 0 0 10px rgba(255, 255, 255, 0.7); \n",
    "        letter-spacing: 1px; \n",
    "        text-transform: uppercase;\">\n",
    "        🔹 CatBoost Model Training and Evaluation\n",
    "    </h2>\n",
    "</div>\n"
   ]
  },
  {
   "cell_type": "code",
   "execution_count": 3,
   "id": "d7556e90",
   "metadata": {
    "execution": {
     "iopub.execute_input": "2024-12-03T09:04:41.365071Z",
     "iopub.status.busy": "2024-12-03T09:04:41.364317Z",
     "iopub.status.idle": "2024-12-03T09:04:56.701933Z",
     "shell.execute_reply": "2024-12-03T09:04:56.700829Z"
    },
    "papermill": {
     "duration": 15.346939,
     "end_time": "2024-12-03T09:04:56.704247",
     "exception": false,
     "start_time": "2024-12-03T09:04:41.357308",
     "status": "completed"
    },
    "tags": []
   },
   "outputs": [
    {
     "name": "stdout",
     "output_type": "stream",
     "text": [
      "CatBoost Accuracy: 0.9533634580953193\n",
      "CatBoost AUC-ROC: 0.9526089525392182\n"
     ]
    }
   ],
   "source": [
    "cat_model = cb.CatBoostClassifier(iterations=500, learning_rate=0.05, depth=10, random_state=42, verbose=0)\n",
    "cat_model.fit(X_train, y_train)\n",
    "\n",
    "y_pred_cat = cat_model.predict(X_val)\n",
    "y_pred_proba_cat = cat_model.predict_proba(X_val)[:, 1]\n",
    "\n",
    "print(\"CatBoost Accuracy:\", accuracy_score(y_val, y_pred_cat))\n",
    "print(\"CatBoost AUC-ROC:\", roc_auc_score(y_val, y_pred_proba_cat))"
   ]
  },
  {
   "cell_type": "markdown",
   "id": "0ba2bcb5",
   "metadata": {
    "papermill": {
     "duration": 0.003467,
     "end_time": "2024-12-03T09:04:56.711610",
     "exception": false,
     "start_time": "2024-12-03T09:04:56.708143",
     "status": "completed"
    },
    "tags": []
   },
   "source": [
    "<div style=\"\n",
    "    background: linear-gradient(135deg, #6a11cb, #2575fc); \n",
    "    padding: 30px; \n",
    "    border-radius: 25px; \n",
    "    box-shadow: 0 12px 30px rgba(0, 0, 0, 0.4), inset 0 1px 2px rgba(255, 255, 255, 0.2); \n",
    "    text-align: center; \n",
    "    margin: 40px auto; \n",
    "    max-width: 800px; \n",
    "    border: 3px solid rgba(255, 255, 255, 0.2); \n",
    "    transition: all 0.3s ease-in-out;\">\n",
    "    <h2 style=\"\n",
    "        color: #ffffff; \n",
    "        font-size: 24px; \n",
    "        font-weight: 900; \n",
    "        font-family: 'Poppins', sans-serif; \n",
    "        margin: 0; \n",
    "        text-shadow: 3px 3px 6px rgba(0, 0, 0, 0.3), 0 0 10px rgba(255, 255, 255, 0.7); \n",
    "        letter-spacing: 1px; \n",
    "        text-transform: uppercase;\">\n",
    "        🔹 Random Forest Model Training and Evaluation\n",
    "    </h2>\n",
    "</div>\n"
   ]
  },
  {
   "cell_type": "code",
   "execution_count": 4,
   "id": "95c6ea7d",
   "metadata": {
    "execution": {
     "iopub.execute_input": "2024-12-03T09:04:56.722070Z",
     "iopub.status.busy": "2024-12-03T09:04:56.721301Z",
     "iopub.status.idle": "2024-12-03T09:05:04.397111Z",
     "shell.execute_reply": "2024-12-03T09:05:04.395970Z"
    },
    "papermill": {
     "duration": 7.684016,
     "end_time": "2024-12-03T09:05:04.399280",
     "exception": false,
     "start_time": "2024-12-03T09:04:56.715264",
     "status": "completed"
    },
    "tags": []
   },
   "outputs": [
    {
     "name": "stdout",
     "output_type": "stream",
     "text": [
      "Random Forest Accuracy: 0.949356296359451\n",
      "Random Forest AUC-ROC: 0.936624569654481\n"
     ]
    }
   ],
   "source": [
    "rf_model = RandomForestClassifier(n_estimators=100, random_state=42)\n",
    "rf_model.fit(X_train, y_train)\n",
    "\n",
    "y_pred_rf = rf_model.predict(X_val)\n",
    "y_pred_proba_rf = rf_model.predict_proba(X_val)[:, 1]\n",
    "\n",
    "print(\"Random Forest Accuracy:\", accuracy_score(y_val, y_pred_rf))\n",
    "print(\"Random Forest AUC-ROC:\", roc_auc_score(y_val, y_pred_proba_rf))"
   ]
  },
  {
   "cell_type": "markdown",
   "id": "33b22d9e",
   "metadata": {
    "papermill": {
     "duration": 0.003199,
     "end_time": "2024-12-03T09:05:04.406107",
     "exception": false,
     "start_time": "2024-12-03T09:05:04.402908",
     "status": "completed"
    },
    "tags": []
   },
   "source": [
    "<div style=\"\n",
    "    background: linear-gradient(135deg, #6a11cb, #2575fc); \n",
    "    padding: 30px; \n",
    "    border-radius: 25px; \n",
    "    box-shadow: 0 12px 30px rgba(0, 0, 0, 0.4), inset 0 1px 2px rgba(255, 255, 255, 0.2); \n",
    "    text-align: center; \n",
    "    margin: 40px auto; \n",
    "    max-width: 800px; \n",
    "    border: 3px solid rgba(255, 255, 255, 0.2); \n",
    "    transition: all 0.3s ease-in-out;\">\n",
    "    <h2 style=\"\n",
    "        color: #ffffff; \n",
    "        font-size: 24px; \n",
    "        font-weight: 900; \n",
    "        font-family: 'Poppins', sans-serif; \n",
    "        margin: 0; \n",
    "        text-shadow: 3px 3px 6px rgba(0, 0, 0, 0.3), 0 0 10px rgba(255, 255, 255, 0.7); \n",
    "        letter-spacing: 1px; \n",
    "        text-transform: uppercase;\">\n",
    "        🔹 Extra Trees Classifier Model Training and Evaluation\n",
    "    </h2>\n",
    "</div>\n"
   ]
  },
  {
   "cell_type": "code",
   "execution_count": 5,
   "id": "803d47e9",
   "metadata": {
    "execution": {
     "iopub.execute_input": "2024-12-03T09:05:04.414958Z",
     "iopub.status.busy": "2024-12-03T09:05:04.414184Z",
     "iopub.status.idle": "2024-12-03T09:05:08.780851Z",
     "shell.execute_reply": "2024-12-03T09:05:08.779653Z"
    },
    "papermill": {
     "duration": 4.37349,
     "end_time": "2024-12-03T09:05:08.783020",
     "exception": false,
     "start_time": "2024-12-03T09:05:04.409530",
     "status": "completed"
    },
    "tags": []
   },
   "outputs": [
    {
     "name": "stdout",
     "output_type": "stream",
     "text": [
      "Extra Trees Accuracy: 0.9487594850370875\n",
      "Extra Trees AUC-ROC: 0.926066817952993\n"
     ]
    }
   ],
   "source": [
    "et_model = ExtraTreesClassifier(n_estimators=100, random_state=42)\n",
    "et_model.fit(X_train, y_train)\n",
    "\n",
    "y_pred_et = et_model.predict(X_val)\n",
    "y_pred_proba_et = et_model.predict_proba(X_val)[:, 1]\n",
    "\n",
    "print(\"Extra Trees Accuracy:\", accuracy_score(y_val, y_pred_et))\n",
    "print(\"Extra Trees AUC-ROC:\", roc_auc_score(y_val, y_pred_proba_et))"
   ]
  },
  {
   "cell_type": "markdown",
   "id": "7fa67d15",
   "metadata": {
    "papermill": {
     "duration": 0.003991,
     "end_time": "2024-12-03T09:05:08.790825",
     "exception": false,
     "start_time": "2024-12-03T09:05:08.786834",
     "status": "completed"
    },
    "tags": []
   },
   "source": [
    "<div style=\"\n",
    "    background: linear-gradient(135deg, #6a11cb, #2575fc); \n",
    "    padding: 30px; \n",
    "    border-radius: 25px; \n",
    "    box-shadow: 0 12px 30px rgba(0, 0, 0, 0.4), inset 0 1px 2px rgba(255, 255, 255, 0.2); \n",
    "    text-align: center; \n",
    "    margin: 40px auto; \n",
    "    max-width: 800px; \n",
    "    border: 3px solid rgba(255, 255, 255, 0.2); \n",
    "    transition: all 0.3s ease-in-out;\">\n",
    "    <h2 style=\"\n",
    "        color: #ffffff; \n",
    "        font-size: 24px; \n",
    "        font-weight: 900; \n",
    "        font-family: 'Poppins', sans-serif; \n",
    "        margin: 0; \n",
    "        text-shadow: 3px 3px 6px rgba(0, 0, 0, 0.3), 0 0 10px rgba(255, 255, 255, 0.7); \n",
    "        letter-spacing: 1px; \n",
    "        text-transform: uppercase;\">\n",
    "        🔹 Neural Network Model Training and Evaluation\n",
    "    </h2>\n",
    "</div>\n"
   ]
  },
  {
   "cell_type": "code",
   "execution_count": 6,
   "id": "837a1410",
   "metadata": {
    "execution": {
     "iopub.execute_input": "2024-12-03T09:05:08.805840Z",
     "iopub.status.busy": "2024-12-03T09:05:08.804864Z",
     "iopub.status.idle": "2024-12-03T09:09:52.030117Z",
     "shell.execute_reply": "2024-12-03T09:09:52.028924Z"
    },
    "papermill": {
     "duration": 283.235022,
     "end_time": "2024-12-03T09:09:52.032232",
     "exception": false,
     "start_time": "2024-12-03T09:05:08.797210",
     "status": "completed"
    },
    "tags": []
   },
   "outputs": [
    {
     "name": "stdout",
     "output_type": "stream",
     "text": [
      "Epoch 1/111\n",
      "\u001b[1m1467/1467\u001b[0m \u001b[32m━━━━━━━━━━━━━━━━━━━━\u001b[0m\u001b[37m\u001b[0m \u001b[1m4s\u001b[0m 2ms/step - accuracy: 0.8593 - loss: 0.3480 - val_accuracy: 0.9020 - val_loss: 0.2516\n",
      "Epoch 2/111\n",
      "\u001b[1m1467/1467\u001b[0m \u001b[32m━━━━━━━━━━━━━━━━━━━━\u001b[0m\u001b[37m\u001b[0m \u001b[1m3s\u001b[0m 2ms/step - accuracy: 0.8991 - loss: 0.2649 - val_accuracy: 0.9135 - val_loss: 0.2342\n",
      "Epoch 3/111\n",
      "\u001b[1m1467/1467\u001b[0m \u001b[32m━━━━━━━━━━━━━━━━━━━━\u001b[0m\u001b[37m\u001b[0m \u001b[1m3s\u001b[0m 2ms/step - accuracy: 0.9057 - loss: 0.2513 - val_accuracy: 0.9178 - val_loss: 0.2264\n",
      "Epoch 4/111\n",
      "\u001b[1m1467/1467\u001b[0m \u001b[32m━━━━━━━━━━━━━━━━━━━━\u001b[0m\u001b[37m\u001b[0m \u001b[1m3s\u001b[0m 2ms/step - accuracy: 0.9125 - loss: 0.2385 - val_accuracy: 0.9178 - val_loss: 0.2248\n",
      "Epoch 5/111\n",
      "\u001b[1m1467/1467\u001b[0m \u001b[32m━━━━━━━━━━━━━━━━━━━━\u001b[0m\u001b[37m\u001b[0m \u001b[1m3s\u001b[0m 2ms/step - accuracy: 0.9151 - loss: 0.2355 - val_accuracy: 0.9250 - val_loss: 0.2176\n",
      "Epoch 6/111\n",
      "\u001b[1m1467/1467\u001b[0m \u001b[32m━━━━━━━━━━━━━━━━━━━━\u001b[0m\u001b[37m\u001b[0m \u001b[1m3s\u001b[0m 2ms/step - accuracy: 0.9167 - loss: 0.2294 - val_accuracy: 0.9304 - val_loss: 0.2110\n",
      "Epoch 7/111\n",
      "\u001b[1m1467/1467\u001b[0m \u001b[32m━━━━━━━━━━━━━━━━━━━━\u001b[0m\u001b[37m\u001b[0m \u001b[1m2s\u001b[0m 2ms/step - accuracy: 0.9193 - loss: 0.2298 - val_accuracy: 0.9310 - val_loss: 0.2124\n",
      "Epoch 8/111\n",
      "\u001b[1m1467/1467\u001b[0m \u001b[32m━━━━━━━━━━━━━━━━━━━━\u001b[0m\u001b[37m\u001b[0m \u001b[1m2s\u001b[0m 2ms/step - accuracy: 0.9203 - loss: 0.2246 - val_accuracy: 0.9225 - val_loss: 0.2177\n",
      "Epoch 9/111\n",
      "\u001b[1m1467/1467\u001b[0m \u001b[32m━━━━━━━━━━━━━━━━━━━━\u001b[0m\u001b[37m\u001b[0m \u001b[1m2s\u001b[0m 2ms/step - accuracy: 0.9228 - loss: 0.2224 - val_accuracy: 0.9315 - val_loss: 0.2117\n",
      "Epoch 10/111\n",
      "\u001b[1m1467/1467\u001b[0m \u001b[32m━━━━━━━━━━━━━━━━━━━━\u001b[0m\u001b[37m\u001b[0m \u001b[1m2s\u001b[0m 2ms/step - accuracy: 0.9197 - loss: 0.2284 - val_accuracy: 0.9344 - val_loss: 0.2087\n",
      "Epoch 11/111\n",
      "\u001b[1m1467/1467\u001b[0m \u001b[32m━━━━━━━━━━━━━━━━━━━━\u001b[0m\u001b[37m\u001b[0m \u001b[1m2s\u001b[0m 2ms/step - accuracy: 0.9242 - loss: 0.2184 - val_accuracy: 0.9339 - val_loss: 0.2071\n",
      "Epoch 12/111\n",
      "\u001b[1m1467/1467\u001b[0m \u001b[32m━━━━━━━━━━━━━━━━━━━━\u001b[0m\u001b[37m\u001b[0m \u001b[1m2s\u001b[0m 2ms/step - accuracy: 0.9237 - loss: 0.2196 - val_accuracy: 0.9315 - val_loss: 0.2101\n",
      "Epoch 13/111\n",
      "\u001b[1m1467/1467\u001b[0m \u001b[32m━━━━━━━━━━━━━━━━━━━━\u001b[0m\u001b[37m\u001b[0m \u001b[1m3s\u001b[0m 2ms/step - accuracy: 0.9243 - loss: 0.2176 - val_accuracy: 0.9317 - val_loss: 0.2086\n",
      "Epoch 14/111\n",
      "\u001b[1m1467/1467\u001b[0m \u001b[32m━━━━━━━━━━━━━━━━━━━━\u001b[0m\u001b[37m\u001b[0m \u001b[1m3s\u001b[0m 2ms/step - accuracy: 0.9265 - loss: 0.2143 - val_accuracy: 0.9315 - val_loss: 0.2096\n",
      "Epoch 15/111\n",
      "\u001b[1m1467/1467\u001b[0m \u001b[32m━━━━━━━━━━━━━━━━━━━━\u001b[0m\u001b[37m\u001b[0m \u001b[1m3s\u001b[0m 2ms/step - accuracy: 0.9276 - loss: 0.2127 - val_accuracy: 0.9321 - val_loss: 0.2102\n",
      "Epoch 16/111\n",
      "\u001b[1m1467/1467\u001b[0m \u001b[32m━━━━━━━━━━━━━━━━━━━━\u001b[0m\u001b[37m\u001b[0m \u001b[1m3s\u001b[0m 2ms/step - accuracy: 0.9274 - loss: 0.2120 - val_accuracy: 0.9376 - val_loss: 0.2035\n",
      "Epoch 17/111\n",
      "\u001b[1m1467/1467\u001b[0m \u001b[32m━━━━━━━━━━━━━━━━━━━━\u001b[0m\u001b[37m\u001b[0m \u001b[1m3s\u001b[0m 2ms/step - accuracy: 0.9272 - loss: 0.2136 - val_accuracy: 0.9329 - val_loss: 0.2056\n",
      "Epoch 18/111\n",
      "\u001b[1m1467/1467\u001b[0m \u001b[32m━━━━━━━━━━━━━━━━━━━━\u001b[0m\u001b[37m\u001b[0m \u001b[1m3s\u001b[0m 2ms/step - accuracy: 0.9254 - loss: 0.2165 - val_accuracy: 0.9322 - val_loss: 0.2067\n",
      "Epoch 19/111\n",
      "\u001b[1m1467/1467\u001b[0m \u001b[32m━━━━━━━━━━━━━━━━━━━━\u001b[0m\u001b[37m\u001b[0m \u001b[1m3s\u001b[0m 2ms/step - accuracy: 0.9286 - loss: 0.2124 - val_accuracy: 0.9363 - val_loss: 0.1994\n",
      "Epoch 20/111\n",
      "\u001b[1m1467/1467\u001b[0m \u001b[32m━━━━━━━━━━━━━━━━━━━━\u001b[0m\u001b[37m\u001b[0m \u001b[1m3s\u001b[0m 2ms/step - accuracy: 0.9292 - loss: 0.2134 - val_accuracy: 0.9350 - val_loss: 0.2025\n",
      "Epoch 21/111\n",
      "\u001b[1m1467/1467\u001b[0m \u001b[32m━━━━━━━━━━━━━━━━━━━━\u001b[0m\u001b[37m\u001b[0m \u001b[1m3s\u001b[0m 2ms/step - accuracy: 0.9285 - loss: 0.2096 - val_accuracy: 0.9350 - val_loss: 0.2010\n",
      "Epoch 22/111\n",
      "\u001b[1m1467/1467\u001b[0m \u001b[32m━━━━━━━━━━━━━━━━━━━━\u001b[0m\u001b[37m\u001b[0m \u001b[1m3s\u001b[0m 2ms/step - accuracy: 0.9290 - loss: 0.2068 - val_accuracy: 0.9351 - val_loss: 0.1995\n",
      "Epoch 23/111\n",
      "\u001b[1m1467/1467\u001b[0m \u001b[32m━━━━━━━━━━━━━━━━━━━━\u001b[0m\u001b[37m\u001b[0m \u001b[1m3s\u001b[0m 2ms/step - accuracy: 0.9300 - loss: 0.2082 - val_accuracy: 0.9365 - val_loss: 0.1995\n",
      "Epoch 24/111\n",
      "\u001b[1m1467/1467\u001b[0m \u001b[32m━━━━━━━━━━━━━━━━━━━━\u001b[0m\u001b[37m\u001b[0m \u001b[1m3s\u001b[0m 2ms/step - accuracy: 0.9307 - loss: 0.2081 - val_accuracy: 0.9370 - val_loss: 0.1985\n",
      "Epoch 25/111\n",
      "\u001b[1m1467/1467\u001b[0m \u001b[32m━━━━━━━━━━━━━━━━━━━━\u001b[0m\u001b[37m\u001b[0m \u001b[1m3s\u001b[0m 2ms/step - accuracy: 0.9310 - loss: 0.2091 - val_accuracy: 0.9354 - val_loss: 0.2008\n",
      "Epoch 26/111\n",
      "\u001b[1m1467/1467\u001b[0m \u001b[32m━━━━━━━━━━━━━━━━━━━━\u001b[0m\u001b[37m\u001b[0m \u001b[1m3s\u001b[0m 2ms/step - accuracy: 0.9301 - loss: 0.2080 - val_accuracy: 0.9376 - val_loss: 0.1943\n",
      "Epoch 27/111\n",
      "\u001b[1m1467/1467\u001b[0m \u001b[32m━━━━━━━━━━━━━━━━━━━━\u001b[0m\u001b[37m\u001b[0m \u001b[1m2s\u001b[0m 2ms/step - accuracy: 0.9314 - loss: 0.2054 - val_accuracy: 0.9362 - val_loss: 0.2009\n",
      "Epoch 28/111\n",
      "\u001b[1m1467/1467\u001b[0m \u001b[32m━━━━━━━━━━━━━━━━━━━━\u001b[0m\u001b[37m\u001b[0m \u001b[1m3s\u001b[0m 2ms/step - accuracy: 0.9331 - loss: 0.2020 - val_accuracy: 0.9368 - val_loss: 0.1965\n",
      "Epoch 29/111\n",
      "\u001b[1m1467/1467\u001b[0m \u001b[32m━━━━━━━━━━━━━━━━━━━━\u001b[0m\u001b[37m\u001b[0m \u001b[1m3s\u001b[0m 2ms/step - accuracy: 0.9332 - loss: 0.2029 - val_accuracy: 0.9392 - val_loss: 0.1959\n",
      "Epoch 30/111\n",
      "\u001b[1m1467/1467\u001b[0m \u001b[32m━━━━━━━━━━━━━━━━━━━━\u001b[0m\u001b[37m\u001b[0m \u001b[1m3s\u001b[0m 2ms/step - accuracy: 0.9328 - loss: 0.2015 - val_accuracy: 0.9396 - val_loss: 0.1967\n",
      "Epoch 31/111\n",
      "\u001b[1m1467/1467\u001b[0m \u001b[32m━━━━━━━━━━━━━━━━━━━━\u001b[0m\u001b[37m\u001b[0m \u001b[1m2s\u001b[0m 2ms/step - accuracy: 0.9333 - loss: 0.2031 - val_accuracy: 0.9364 - val_loss: 0.1948\n",
      "Epoch 32/111\n",
      "\u001b[1m1467/1467\u001b[0m \u001b[32m━━━━━━━━━━━━━━━━━━━━\u001b[0m\u001b[37m\u001b[0m \u001b[1m3s\u001b[0m 2ms/step - accuracy: 0.9320 - loss: 0.2044 - val_accuracy: 0.9390 - val_loss: 0.1923\n",
      "Epoch 33/111\n",
      "\u001b[1m1467/1467\u001b[0m \u001b[32m━━━━━━━━━━━━━━━━━━━━\u001b[0m\u001b[37m\u001b[0m \u001b[1m3s\u001b[0m 2ms/step - accuracy: 0.9317 - loss: 0.2060 - val_accuracy: 0.9334 - val_loss: 0.2014\n",
      "Epoch 34/111\n",
      "\u001b[1m1467/1467\u001b[0m \u001b[32m━━━━━━━━━━━━━━━━━━━━\u001b[0m\u001b[37m\u001b[0m \u001b[1m3s\u001b[0m 2ms/step - accuracy: 0.9327 - loss: 0.2031 - val_accuracy: 0.9383 - val_loss: 0.1930\n",
      "Epoch 35/111\n",
      "\u001b[1m1467/1467\u001b[0m \u001b[32m━━━━━━━━━━━━━━━━━━━━\u001b[0m\u001b[37m\u001b[0m \u001b[1m3s\u001b[0m 2ms/step - accuracy: 0.9323 - loss: 0.2048 - val_accuracy: 0.9381 - val_loss: 0.1948\n",
      "Epoch 36/111\n",
      "\u001b[1m1467/1467\u001b[0m \u001b[32m━━━━━━━━━━━━━━━━━━━━\u001b[0m\u001b[37m\u001b[0m \u001b[1m3s\u001b[0m 2ms/step - accuracy: 0.9337 - loss: 0.2006 - val_accuracy: 0.9372 - val_loss: 0.1919\n",
      "Epoch 37/111\n",
      "\u001b[1m1467/1467\u001b[0m \u001b[32m━━━━━━━━━━━━━━━━━━━━\u001b[0m\u001b[37m\u001b[0m \u001b[1m3s\u001b[0m 2ms/step - accuracy: 0.9316 - loss: 0.2038 - val_accuracy: 0.9384 - val_loss: 0.1932\n",
      "Epoch 38/111\n",
      "\u001b[1m1467/1467\u001b[0m \u001b[32m━━━━━━━━━━━━━━━━━━━━\u001b[0m\u001b[37m\u001b[0m \u001b[1m3s\u001b[0m 2ms/step - accuracy: 0.9331 - loss: 0.2018 - val_accuracy: 0.9390 - val_loss: 0.1941\n",
      "Epoch 39/111\n",
      "\u001b[1m1467/1467\u001b[0m \u001b[32m━━━━━━━━━━━━━━━━━━━━\u001b[0m\u001b[37m\u001b[0m \u001b[1m3s\u001b[0m 2ms/step - accuracy: 0.9321 - loss: 0.2036 - val_accuracy: 0.9373 - val_loss: 0.1940\n",
      "Epoch 40/111\n",
      "\u001b[1m1467/1467\u001b[0m \u001b[32m━━━━━━━━━━━━━━━━━━━━\u001b[0m\u001b[37m\u001b[0m \u001b[1m3s\u001b[0m 2ms/step - accuracy: 0.9341 - loss: 0.2039 - val_accuracy: 0.9393 - val_loss: 0.1921\n",
      "Epoch 41/111\n",
      "\u001b[1m1467/1467\u001b[0m \u001b[32m━━━━━━━━━━━━━━━━━━━━\u001b[0m\u001b[37m\u001b[0m \u001b[1m2s\u001b[0m 2ms/step - accuracy: 0.9343 - loss: 0.1981 - val_accuracy: 0.9381 - val_loss: 0.1924\n",
      "Epoch 42/111\n",
      "\u001b[1m1467/1467\u001b[0m \u001b[32m━━━━━━━━━━━━━━━━━━━━\u001b[0m\u001b[37m\u001b[0m \u001b[1m2s\u001b[0m 2ms/step - accuracy: 0.9332 - loss: 0.2037 - val_accuracy: 0.9396 - val_loss: 0.1930\n",
      "Epoch 43/111\n",
      "\u001b[1m1467/1467\u001b[0m \u001b[32m━━━━━━━━━━━━━━━━━━━━\u001b[0m\u001b[37m\u001b[0m \u001b[1m2s\u001b[0m 2ms/step - accuracy: 0.9366 - loss: 0.1978 - val_accuracy: 0.9377 - val_loss: 0.1929\n",
      "Epoch 44/111\n",
      "\u001b[1m1467/1467\u001b[0m \u001b[32m━━━━━━━━━━━━━━━━━━━━\u001b[0m\u001b[37m\u001b[0m \u001b[1m3s\u001b[0m 2ms/step - accuracy: 0.9365 - loss: 0.1970 - val_accuracy: 0.9364 - val_loss: 0.1946\n",
      "Epoch 45/111\n",
      "\u001b[1m1467/1467\u001b[0m \u001b[32m━━━━━━━━━━━━━━━━━━━━\u001b[0m\u001b[37m\u001b[0m \u001b[1m3s\u001b[0m 2ms/step - accuracy: 0.9351 - loss: 0.1992 - val_accuracy: 0.9392 - val_loss: 0.1900\n",
      "Epoch 46/111\n",
      "\u001b[1m1467/1467\u001b[0m \u001b[32m━━━━━━━━━━━━━━━━━━━━\u001b[0m\u001b[37m\u001b[0m \u001b[1m3s\u001b[0m 2ms/step - accuracy: 0.9357 - loss: 0.2002 - val_accuracy: 0.9404 - val_loss: 0.1905\n",
      "Epoch 47/111\n",
      "\u001b[1m1467/1467\u001b[0m \u001b[32m━━━━━━━━━━━━━━━━━━━━\u001b[0m\u001b[37m\u001b[0m \u001b[1m3s\u001b[0m 2ms/step - accuracy: 0.9360 - loss: 0.1982 - val_accuracy: 0.9411 - val_loss: 0.1893\n",
      "Epoch 48/111\n",
      "\u001b[1m1467/1467\u001b[0m \u001b[32m━━━━━━━━━━━━━━━━━━━━\u001b[0m\u001b[37m\u001b[0m \u001b[1m3s\u001b[0m 2ms/step - accuracy: 0.9345 - loss: 0.1979 - val_accuracy: 0.9378 - val_loss: 0.1936\n",
      "Epoch 49/111\n",
      "\u001b[1m1467/1467\u001b[0m \u001b[32m━━━━━━━━━━━━━━━━━━━━\u001b[0m\u001b[37m\u001b[0m \u001b[1m3s\u001b[0m 2ms/step - accuracy: 0.9375 - loss: 0.1962 - val_accuracy: 0.9397 - val_loss: 0.1918\n",
      "Epoch 50/111\n",
      "\u001b[1m1467/1467\u001b[0m \u001b[32m━━━━━━━━━━━━━━━━━━━━\u001b[0m\u001b[37m\u001b[0m \u001b[1m3s\u001b[0m 2ms/step - accuracy: 0.9337 - loss: 0.2000 - val_accuracy: 0.9378 - val_loss: 0.1929\n",
      "Epoch 51/111\n",
      "\u001b[1m1467/1467\u001b[0m \u001b[32m━━━━━━━━━━━━━━━━━━━━\u001b[0m\u001b[37m\u001b[0m \u001b[1m3s\u001b[0m 2ms/step - accuracy: 0.9355 - loss: 0.1989 - val_accuracy: 0.9402 - val_loss: 0.1913\n",
      "Epoch 52/111\n",
      "\u001b[1m1467/1467\u001b[0m \u001b[32m━━━━━━━━━━━━━━━━━━━━\u001b[0m\u001b[37m\u001b[0m \u001b[1m3s\u001b[0m 2ms/step - accuracy: 0.9364 - loss: 0.1986 - val_accuracy: 0.9393 - val_loss: 0.1906\n",
      "Epoch 53/111\n",
      "\u001b[1m1467/1467\u001b[0m \u001b[32m━━━━━━━━━━━━━━━━━━━━\u001b[0m\u001b[37m\u001b[0m \u001b[1m3s\u001b[0m 2ms/step - accuracy: 0.9346 - loss: 0.2008 - val_accuracy: 0.9396 - val_loss: 0.1885\n",
      "Epoch 54/111\n",
      "\u001b[1m1467/1467\u001b[0m \u001b[32m━━━━━━━━━━━━━━━━━━━━\u001b[0m\u001b[37m\u001b[0m \u001b[1m3s\u001b[0m 2ms/step - accuracy: 0.9349 - loss: 0.2000 - val_accuracy: 0.9400 - val_loss: 0.1890\n",
      "Epoch 55/111\n",
      "\u001b[1m1467/1467\u001b[0m \u001b[32m━━━━━━━━━━━━━━━━━━━━\u001b[0m\u001b[37m\u001b[0m \u001b[1m3s\u001b[0m 2ms/step - accuracy: 0.9383 - loss: 0.1928 - val_accuracy: 0.9399 - val_loss: 0.1880\n",
      "Epoch 56/111\n",
      "\u001b[1m1467/1467\u001b[0m \u001b[32m━━━━━━━━━━━━━━━━━━━━\u001b[0m\u001b[37m\u001b[0m \u001b[1m3s\u001b[0m 2ms/step - accuracy: 0.9374 - loss: 0.1926 - val_accuracy: 0.9364 - val_loss: 0.1969\n",
      "Epoch 57/111\n",
      "\u001b[1m1467/1467\u001b[0m \u001b[32m━━━━━━━━━━━━━━━━━━━━\u001b[0m\u001b[37m\u001b[0m \u001b[1m3s\u001b[0m 2ms/step - accuracy: 0.9363 - loss: 0.1974 - val_accuracy: 0.9409 - val_loss: 0.1895\n",
      "Epoch 58/111\n",
      "\u001b[1m1467/1467\u001b[0m \u001b[32m━━━━━━━━━━━━━━━━━━━━\u001b[0m\u001b[37m\u001b[0m \u001b[1m3s\u001b[0m 2ms/step - accuracy: 0.9363 - loss: 0.1978 - val_accuracy: 0.9404 - val_loss: 0.1887\n",
      "Epoch 59/111\n",
      "\u001b[1m1467/1467\u001b[0m \u001b[32m━━━━━━━━━━━━━━━━━━━━\u001b[0m\u001b[37m\u001b[0m \u001b[1m3s\u001b[0m 2ms/step - accuracy: 0.9360 - loss: 0.1986 - val_accuracy: 0.9407 - val_loss: 0.1876\n",
      "Epoch 60/111\n",
      "\u001b[1m1467/1467\u001b[0m \u001b[32m━━━━━━━━━━━━━━━━━━━━\u001b[0m\u001b[37m\u001b[0m \u001b[1m3s\u001b[0m 2ms/step - accuracy: 0.9372 - loss: 0.1935 - val_accuracy: 0.9394 - val_loss: 0.1911\n",
      "Epoch 61/111\n",
      "\u001b[1m1467/1467\u001b[0m \u001b[32m━━━━━━━━━━━━━━━━━━━━\u001b[0m\u001b[37m\u001b[0m \u001b[1m3s\u001b[0m 2ms/step - accuracy: 0.9360 - loss: 0.1965 - val_accuracy: 0.9408 - val_loss: 0.1896\n",
      "Epoch 62/111\n",
      "\u001b[1m1467/1467\u001b[0m \u001b[32m━━━━━━━━━━━━━━━━━━━━\u001b[0m\u001b[37m\u001b[0m \u001b[1m3s\u001b[0m 2ms/step - accuracy: 0.9395 - loss: 0.1957 - val_accuracy: 0.9384 - val_loss: 0.1913\n",
      "Epoch 63/111\n",
      "\u001b[1m1467/1467\u001b[0m \u001b[32m━━━━━━━━━━━━━━━━━━━━\u001b[0m\u001b[37m\u001b[0m \u001b[1m3s\u001b[0m 2ms/step - accuracy: 0.9360 - loss: 0.1996 - val_accuracy: 0.9407 - val_loss: 0.1881\n",
      "Epoch 64/111\n",
      "\u001b[1m1467/1467\u001b[0m \u001b[32m━━━━━━━━━━━━━━━━━━━━\u001b[0m\u001b[37m\u001b[0m \u001b[1m3s\u001b[0m 2ms/step - accuracy: 0.9363 - loss: 0.1972 - val_accuracy: 0.9410 - val_loss: 0.1875\n",
      "Epoch 65/111\n",
      "\u001b[1m1467/1467\u001b[0m \u001b[32m━━━━━━━━━━━━━━━━━━━━\u001b[0m\u001b[37m\u001b[0m \u001b[1m3s\u001b[0m 2ms/step - accuracy: 0.9371 - loss: 0.1963 - val_accuracy: 0.9419 - val_loss: 0.1865\n",
      "Epoch 66/111\n",
      "\u001b[1m1467/1467\u001b[0m \u001b[32m━━━━━━━━━━━━━━━━━━━━\u001b[0m\u001b[37m\u001b[0m \u001b[1m3s\u001b[0m 2ms/step - accuracy: 0.9376 - loss: 0.1989 - val_accuracy: 0.9418 - val_loss: 0.1880\n",
      "Epoch 67/111\n",
      "\u001b[1m1467/1467\u001b[0m \u001b[32m━━━━━━━━━━━━━━━━━━━━\u001b[0m\u001b[37m\u001b[0m \u001b[1m3s\u001b[0m 2ms/step - accuracy: 0.9381 - loss: 0.1950 - val_accuracy: 0.9426 - val_loss: 0.1855\n",
      "Epoch 68/111\n",
      "\u001b[1m1467/1467\u001b[0m \u001b[32m━━━━━━━━━━━━━━━━━━━━\u001b[0m\u001b[37m\u001b[0m \u001b[1m3s\u001b[0m 2ms/step - accuracy: 0.9364 - loss: 0.1968 - val_accuracy: 0.9413 - val_loss: 0.1860\n",
      "Epoch 69/111\n",
      "\u001b[1m1467/1467\u001b[0m \u001b[32m━━━━━━━━━━━━━━━━━━━━\u001b[0m\u001b[37m\u001b[0m \u001b[1m3s\u001b[0m 2ms/step - accuracy: 0.9381 - loss: 0.1964 - val_accuracy: 0.9435 - val_loss: 0.1848\n",
      "Epoch 70/111\n",
      "\u001b[1m1467/1467\u001b[0m \u001b[32m━━━━━━━━━━━━━━━━━━━━\u001b[0m\u001b[37m\u001b[0m \u001b[1m3s\u001b[0m 2ms/step - accuracy: 0.9382 - loss: 0.1945 - val_accuracy: 0.9419 - val_loss: 0.1862\n",
      "Epoch 71/111\n",
      "\u001b[1m1467/1467\u001b[0m \u001b[32m━━━━━━━━━━━━━━━━━━━━\u001b[0m\u001b[37m\u001b[0m \u001b[1m3s\u001b[0m 2ms/step - accuracy: 0.9395 - loss: 0.1924 - val_accuracy: 0.9414 - val_loss: 0.1844\n",
      "Epoch 72/111\n",
      "\u001b[1m1467/1467\u001b[0m \u001b[32m━━━━━━━━━━━━━━━━━━━━\u001b[0m\u001b[37m\u001b[0m \u001b[1m3s\u001b[0m 2ms/step - accuracy: 0.9383 - loss: 0.1952 - val_accuracy: 0.9441 - val_loss: 0.1858\n",
      "Epoch 73/111\n",
      "\u001b[1m1467/1467\u001b[0m \u001b[32m━━━━━━━━━━━━━━━━━━━━\u001b[0m\u001b[37m\u001b[0m \u001b[1m2s\u001b[0m 2ms/step - accuracy: 0.9402 - loss: 0.1915 - val_accuracy: 0.9438 - val_loss: 0.1854\n",
      "Epoch 74/111\n",
      "\u001b[1m1467/1467\u001b[0m \u001b[32m━━━━━━━━━━━━━━━━━━━━\u001b[0m\u001b[37m\u001b[0m \u001b[1m2s\u001b[0m 2ms/step - accuracy: 0.9395 - loss: 0.1955 - val_accuracy: 0.9437 - val_loss: 0.1838\n",
      "Epoch 75/111\n",
      "\u001b[1m1467/1467\u001b[0m \u001b[32m━━━━━━━━━━━━━━━━━━━━\u001b[0m\u001b[37m\u001b[0m \u001b[1m2s\u001b[0m 2ms/step - accuracy: 0.9366 - loss: 0.2026 - val_accuracy: 0.9442 - val_loss: 0.1833\n",
      "Epoch 76/111\n",
      "\u001b[1m1467/1467\u001b[0m \u001b[32m━━━━━━━━━━━━━━━━━━━━\u001b[0m\u001b[37m\u001b[0m \u001b[1m2s\u001b[0m 2ms/step - accuracy: 0.9386 - loss: 0.1953 - val_accuracy: 0.9427 - val_loss: 0.1838\n",
      "Epoch 77/111\n",
      "\u001b[1m1467/1467\u001b[0m \u001b[32m━━━━━━━━━━━━━━━━━━━━\u001b[0m\u001b[37m\u001b[0m \u001b[1m3s\u001b[0m 2ms/step - accuracy: 0.9415 - loss: 0.1909 - val_accuracy: 0.9434 - val_loss: 0.1849\n",
      "Epoch 78/111\n",
      "\u001b[1m1467/1467\u001b[0m \u001b[32m━━━━━━━━━━━━━━━━━━━━\u001b[0m\u001b[37m\u001b[0m \u001b[1m3s\u001b[0m 2ms/step - accuracy: 0.9398 - loss: 0.1920 - val_accuracy: 0.9426 - val_loss: 0.1845\n",
      "Epoch 79/111\n",
      "\u001b[1m1467/1467\u001b[0m \u001b[32m━━━━━━━━━━━━━━━━━━━━\u001b[0m\u001b[37m\u001b[0m \u001b[1m3s\u001b[0m 2ms/step - accuracy: 0.9410 - loss: 0.1898 - val_accuracy: 0.9435 - val_loss: 0.1819\n",
      "Epoch 80/111\n",
      "\u001b[1m1467/1467\u001b[0m \u001b[32m━━━━━━━━━━━━━━━━━━━━\u001b[0m\u001b[37m\u001b[0m \u001b[1m3s\u001b[0m 2ms/step - accuracy: 0.9393 - loss: 0.1943 - val_accuracy: 0.9443 - val_loss: 0.1824\n",
      "Epoch 81/111\n",
      "\u001b[1m1467/1467\u001b[0m \u001b[32m━━━━━━━━━━━━━━━━━━━━\u001b[0m\u001b[37m\u001b[0m \u001b[1m3s\u001b[0m 2ms/step - accuracy: 0.9408 - loss: 0.1907 - val_accuracy: 0.9446 - val_loss: 0.1826\n",
      "Epoch 82/111\n",
      "\u001b[1m1467/1467\u001b[0m \u001b[32m━━━━━━━━━━━━━━━━━━━━\u001b[0m\u001b[37m\u001b[0m \u001b[1m3s\u001b[0m 2ms/step - accuracy: 0.9402 - loss: 0.1924 - val_accuracy: 0.9441 - val_loss: 0.1816\n",
      "Epoch 83/111\n",
      "\u001b[1m1467/1467\u001b[0m \u001b[32m━━━━━━━━━━━━━━━━━━━━\u001b[0m\u001b[37m\u001b[0m \u001b[1m3s\u001b[0m 2ms/step - accuracy: 0.9416 - loss: 0.1902 - val_accuracy: 0.9465 - val_loss: 0.1814\n",
      "Epoch 84/111\n",
      "\u001b[1m1467/1467\u001b[0m \u001b[32m━━━━━━━━━━━━━━━━━━━━\u001b[0m\u001b[37m\u001b[0m \u001b[1m3s\u001b[0m 2ms/step - accuracy: 0.9392 - loss: 0.1948 - val_accuracy: 0.9435 - val_loss: 0.1830\n",
      "Epoch 85/111\n",
      "\u001b[1m1467/1467\u001b[0m \u001b[32m━━━━━━━━━━━━━━━━━━━━\u001b[0m\u001b[37m\u001b[0m \u001b[1m3s\u001b[0m 2ms/step - accuracy: 0.9399 - loss: 0.1924 - val_accuracy: 0.9439 - val_loss: 0.1811\n",
      "Epoch 86/111\n",
      "\u001b[1m1467/1467\u001b[0m \u001b[32m━━━━━━━━━━━━━━━━━━━━\u001b[0m\u001b[37m\u001b[0m \u001b[1m2s\u001b[0m 2ms/step - accuracy: 0.9396 - loss: 0.1934 - val_accuracy: 0.9438 - val_loss: 0.1832\n",
      "Epoch 87/111\n",
      "\u001b[1m1467/1467\u001b[0m \u001b[32m━━━━━━━━━━━━━━━━━━━━\u001b[0m\u001b[37m\u001b[0m \u001b[1m3s\u001b[0m 2ms/step - accuracy: 0.9381 - loss: 0.1950 - val_accuracy: 0.9442 - val_loss: 0.1819\n",
      "Epoch 88/111\n",
      "\u001b[1m1467/1467\u001b[0m \u001b[32m━━━━━━━━━━━━━━━━━━━━\u001b[0m\u001b[37m\u001b[0m \u001b[1m3s\u001b[0m 2ms/step - accuracy: 0.9401 - loss: 0.1934 - val_accuracy: 0.9448 - val_loss: 0.1821\n",
      "Epoch 89/111\n",
      "\u001b[1m1467/1467\u001b[0m \u001b[32m━━━━━━━━━━━━━━━━━━━━\u001b[0m\u001b[37m\u001b[0m \u001b[1m3s\u001b[0m 2ms/step - accuracy: 0.9396 - loss: 0.1945 - val_accuracy: 0.9436 - val_loss: 0.1809\n",
      "Epoch 90/111\n",
      "\u001b[1m1467/1467\u001b[0m \u001b[32m━━━━━━━━━━━━━━━━━━━━\u001b[0m\u001b[37m\u001b[0m \u001b[1m3s\u001b[0m 2ms/step - accuracy: 0.9419 - loss: 0.1887 - val_accuracy: 0.9443 - val_loss: 0.1829\n",
      "Epoch 91/111\n",
      "\u001b[1m1467/1467\u001b[0m \u001b[32m━━━━━━━━━━━━━━━━━━━━\u001b[0m\u001b[37m\u001b[0m \u001b[1m2s\u001b[0m 2ms/step - accuracy: 0.9426 - loss: 0.1845 - val_accuracy: 0.9448 - val_loss: 0.1814\n",
      "Epoch 92/111\n",
      "\u001b[1m1467/1467\u001b[0m \u001b[32m━━━━━━━━━━━━━━━━━━━━\u001b[0m\u001b[37m\u001b[0m \u001b[1m3s\u001b[0m 2ms/step - accuracy: 0.9401 - loss: 0.1936 - val_accuracy: 0.9448 - val_loss: 0.1814\n",
      "Epoch 93/111\n",
      "\u001b[1m1467/1467\u001b[0m \u001b[32m━━━━━━━━━━━━━━━━━━━━\u001b[0m\u001b[37m\u001b[0m \u001b[1m3s\u001b[0m 2ms/step - accuracy: 0.9414 - loss: 0.1901 - val_accuracy: 0.9456 - val_loss: 0.1813\n",
      "Epoch 94/111\n",
      "\u001b[1m1467/1467\u001b[0m \u001b[32m━━━━━━━━━━━━━━━━━━━━\u001b[0m\u001b[37m\u001b[0m \u001b[1m3s\u001b[0m 2ms/step - accuracy: 0.9403 - loss: 0.1935 - val_accuracy: 0.9468 - val_loss: 0.1808\n",
      "Epoch 95/111\n",
      "\u001b[1m1467/1467\u001b[0m \u001b[32m━━━━━━━━━━━━━━━━━━━━\u001b[0m\u001b[37m\u001b[0m \u001b[1m3s\u001b[0m 2ms/step - accuracy: 0.9416 - loss: 0.1881 - val_accuracy: 0.9471 - val_loss: 0.1801\n",
      "Epoch 96/111\n",
      "\u001b[1m1467/1467\u001b[0m \u001b[32m━━━━━━━━━━━━━━━━━━━━\u001b[0m\u001b[37m\u001b[0m \u001b[1m3s\u001b[0m 2ms/step - accuracy: 0.9397 - loss: 0.1933 - val_accuracy: 0.9469 - val_loss: 0.1796\n",
      "Epoch 97/111\n",
      "\u001b[1m1467/1467\u001b[0m \u001b[32m━━━━━━━━━━━━━━━━━━━━\u001b[0m\u001b[37m\u001b[0m \u001b[1m2s\u001b[0m 2ms/step - accuracy: 0.9403 - loss: 0.1940 - val_accuracy: 0.9465 - val_loss: 0.1784\n",
      "Epoch 98/111\n",
      "\u001b[1m1467/1467\u001b[0m \u001b[32m━━━━━━━━━━━━━━━━━━━━\u001b[0m\u001b[37m\u001b[0m \u001b[1m2s\u001b[0m 2ms/step - accuracy: 0.9418 - loss: 0.1889 - val_accuracy: 0.9453 - val_loss: 0.1820\n",
      "Epoch 99/111\n",
      "\u001b[1m1467/1467\u001b[0m \u001b[32m━━━━━━━━━━━━━━━━━━━━\u001b[0m\u001b[37m\u001b[0m \u001b[1m2s\u001b[0m 2ms/step - accuracy: 0.9407 - loss: 0.1918 - val_accuracy: 0.9471 - val_loss: 0.1797\n",
      "Epoch 100/111\n",
      "\u001b[1m1467/1467\u001b[0m \u001b[32m━━━━━━━━━━━━━━━━━━━━\u001b[0m\u001b[37m\u001b[0m \u001b[1m3s\u001b[0m 2ms/step - accuracy: 0.9410 - loss: 0.1908 - val_accuracy: 0.9438 - val_loss: 0.1812\n",
      "Epoch 101/111\n",
      "\u001b[1m1467/1467\u001b[0m \u001b[32m━━━━━━━━━━━━━━━━━━━━\u001b[0m\u001b[37m\u001b[0m \u001b[1m3s\u001b[0m 2ms/step - accuracy: 0.9408 - loss: 0.1945 - val_accuracy: 0.9472 - val_loss: 0.1791\n",
      "Epoch 102/111\n",
      "\u001b[1m1467/1467\u001b[0m \u001b[32m━━━━━━━━━━━━━━━━━━━━\u001b[0m\u001b[37m\u001b[0m \u001b[1m3s\u001b[0m 2ms/step - accuracy: 0.9378 - loss: 0.1963 - val_accuracy: 0.9449 - val_loss: 0.1815\n",
      "Epoch 103/111\n",
      "\u001b[1m1467/1467\u001b[0m \u001b[32m━━━━━━━━━━━━━━━━━━━━\u001b[0m\u001b[37m\u001b[0m \u001b[1m3s\u001b[0m 2ms/step - accuracy: 0.9406 - loss: 0.1877 - val_accuracy: 0.9480 - val_loss: 0.1790\n",
      "Epoch 104/111\n",
      "\u001b[1m1467/1467\u001b[0m \u001b[32m━━━━━━━━━━━━━━━━━━━━\u001b[0m\u001b[37m\u001b[0m \u001b[1m3s\u001b[0m 2ms/step - accuracy: 0.9391 - loss: 0.1947 - val_accuracy: 0.9464 - val_loss: 0.1808\n",
      "Epoch 105/111\n",
      "\u001b[1m1467/1467\u001b[0m \u001b[32m━━━━━━━━━━━━━━━━━━━━\u001b[0m\u001b[37m\u001b[0m \u001b[1m2s\u001b[0m 2ms/step - accuracy: 0.9408 - loss: 0.1889 - val_accuracy: 0.9463 - val_loss: 0.1816\n",
      "Epoch 106/111\n",
      "\u001b[1m1467/1467\u001b[0m \u001b[32m━━━━━━━━━━━━━━━━━━━━\u001b[0m\u001b[37m\u001b[0m \u001b[1m3s\u001b[0m 2ms/step - accuracy: 0.9400 - loss: 0.1943 - val_accuracy: 0.9454 - val_loss: 0.1801\n",
      "Epoch 107/111\n",
      "\u001b[1m1467/1467\u001b[0m \u001b[32m━━━━━━━━━━━━━━━━━━━━\u001b[0m\u001b[37m\u001b[0m \u001b[1m3s\u001b[0m 2ms/step - accuracy: 0.9438 - loss: 0.1846 - val_accuracy: 0.9433 - val_loss: 0.1812\n",
      "Epoch 108/111\n",
      "\u001b[1m1467/1467\u001b[0m \u001b[32m━━━━━━━━━━━━━━━━━━━━\u001b[0m\u001b[37m\u001b[0m \u001b[1m2s\u001b[0m 2ms/step - accuracy: 0.9416 - loss: 0.1901 - val_accuracy: 0.9477 - val_loss: 0.1784\n",
      "Epoch 109/111\n",
      "\u001b[1m1467/1467\u001b[0m \u001b[32m━━━━━━━━━━━━━━━━━━━━\u001b[0m\u001b[37m\u001b[0m \u001b[1m2s\u001b[0m 2ms/step - accuracy: 0.9416 - loss: 0.1917 - val_accuracy: 0.9471 - val_loss: 0.1793\n",
      "Epoch 110/111\n",
      "\u001b[1m1467/1467\u001b[0m \u001b[32m━━━━━━━━━━━━━━━━━━━━\u001b[0m\u001b[37m\u001b[0m \u001b[1m2s\u001b[0m 2ms/step - accuracy: 0.9408 - loss: 0.1938 - val_accuracy: 0.9453 - val_loss: 0.1807\n",
      "Epoch 111/111\n",
      "\u001b[1m1467/1467\u001b[0m \u001b[32m━━━━━━━━━━━━━━━━━━━━\u001b[0m\u001b[37m\u001b[0m \u001b[1m3s\u001b[0m 2ms/step - accuracy: 0.9430 - loss: 0.1878 - val_accuracy: 0.9468 - val_loss: 0.1796\n",
      "\u001b[1m367/367\u001b[0m \u001b[32m━━━━━━━━━━━━━━━━━━━━\u001b[0m\u001b[37m\u001b[0m \u001b[1m0s\u001b[0m 1ms/step  \n",
      "Neural Network Accuracy: 0.9467985335493222\n",
      "Neural Network AUC-ROC: 0.9314496764869145\n"
     ]
    }
   ],
   "source": [
    "nn_model = models.Sequential([\n",
    "    layers.Dense(64, activation='relu', input_shape=(X_train.shape[1],)),\n",
    "    layers.Dropout(0.5),\n",
    "    layers.Dense(32, activation='relu'),\n",
    "    layers.Dense(1, activation='sigmoid') \n",
    "])\n",
    "nn_model.compile(optimizer='adam', loss='binary_crossentropy', metrics=['accuracy'])\n",
    "history = nn_model.fit(X_train, y_train, epochs=111, batch_size=32, validation_data=(X_val, y_val), verbose=1)\n",
    "y_pred_nn = nn_model.predict(X_val).flatten()\n",
    "y_pred_proba_nn = y_pred_nn\n",
    "\n",
    "print(\"Neural Network Accuracy:\", accuracy_score(y_val, (y_pred_proba_nn > 0.5).astype(int)))\n",
    "print(\"Neural Network AUC-ROC:\", roc_auc_score(y_val, y_pred_proba_nn))"
   ]
  },
  {
   "cell_type": "code",
   "execution_count": 7,
   "id": "a61172db",
   "metadata": {
    "execution": {
     "iopub.execute_input": "2024-12-03T09:09:52.656853Z",
     "iopub.status.busy": "2024-12-03T09:09:52.656334Z",
     "iopub.status.idle": "2024-12-03T09:09:53.254068Z",
     "shell.execute_reply": "2024-12-03T09:09:53.252962Z"
    },
    "papermill": {
     "duration": 0.937506,
     "end_time": "2024-12-03T09:09:53.256554",
     "exception": false,
     "start_time": "2024-12-03T09:09:52.319048",
     "status": "completed"
    },
    "tags": []
   },
   "outputs": [
    {
     "data": {
      "image/png": "[encoded data removed]",
      "text/plain": [
       "<Figure size 1400x800 with 2 Axes>"
      ]
     },
     "metadata": {},
     "output_type": "display_data"
    }
   ],
   "source": [
    "model_names = ['XGBoost', 'CatBoost', 'Random Forest', 'Extra Trees', 'Neural Network']\n",
    "accuracies = [0.9525, 0.9533, 0.9493, 0.9487, 0.9467]  \n",
    "auc_roc_scores = [0.9544, 0.9526, 0.9366, 0.9260, 0.9318]  \n",
    "\n",
    "performance_df = pd.DataFrame({\n",
    "    'Model': model_names,\n",
    "    'Accuracy': accuracies,\n",
    "    'AUC-ROC': auc_roc_scores\n",
    "})\n",
    "plt.figure(figsize=(14, 8))\n",
    "sns.set(style=\"ticks\")  # Ticks style for a sharp and professional look\n",
    "\n",
    "ax1 = plt.subplot(1, 2, 1)\n",
    "sns.barplot(x='Accuracy', y='Model', data=performance_df, palette='crest', ax=ax1)\n",
    "ax1.set_title('Model Accuracy Comparison', fontsize=18, fontweight='bold', color='black')\n",
    "ax1.set_xlabel('Accuracy', fontsize=14)\n",
    "ax1.set_ylabel('Model', fontsize=14)\n",
    "ax1.set_xlim(0, 1)\n",
    "\n",
    "for p in ax1.patches:\n",
    "    ax1.annotate(f'{p.get_width():.4f}', (p.get_x() + p.get_width() - 0.02, p.get_y() + p.get_height() / 2),\n",
    "                 ha='center', va='center', fontsize=12, color='white', fontweight='bold')\n",
    "\n",
    "ax2 = plt.subplot(1, 2, 2)\n",
    "sns.barplot(x='AUC-ROC', y='Model', data=performance_df, palette='rocket', ax=ax2)\n",
    "ax2.set_title('Model AUC-ROC Comparison', fontsize=18, fontweight='bold', color='black')\n",
    "ax2.set_xlabel('AUC-ROC', fontsize=14)\n",
    "ax2.set_ylabel('Model', fontsize=14)\n",
    "ax2.set_xlim(0, 1)\n",
    "\n",
    "for p in ax2.patches:\n",
    "    ax2.annotate(f'{p.get_width():.4f}', (p.get_x() + p.get_width() - 0.02, p.get_y() + p.get_height() / 2),\n",
    "                 ha='center', va='center', fontsize=12, color='white', fontweight='bold')\n",
    "\n",
    "plt.tight_layout()\n",
    "plt.show()"
   ]
  },
  {
   "cell_type": "code",
   "execution_count": null,
   "id": "ca81602d",
   "metadata": {
    "papermill": {
     "duration": 0.281874,
     "end_time": "2024-12-03T09:09:53.822770",
     "exception": false,
     "start_time": "2024-12-03T09:09:53.540896",
     "status": "completed"
    },
    "tags": []
   },
   "outputs": [],
   "source": []
  }
 ],
 "metadata": {
  "kaggle": {
   "accelerator": "none",
   "dataSources": [
    {
     "databundleVersionId": 9709193,
     "sourceId": 84894,
     "sourceType": "competition"
    }
   ],
   "dockerImageVersionId": 30804,
   "isGpuEnabled": false,
   "isInternetEnabled": true,
   "language": "python",
   "sourceType": "notebook"
  },
  "kernelspec": {
   "display_name": "Python 3",
   "language": "python",
   "name": "python3"
  },
  "language_info": {
   "codemirror_mode": {
    "name": "ipython",
    "version": 3
   },
   "file_extension": ".py",
   "mimetype": "text/x-python",
   "name": "python",
   "nbconvert_exporter": "python",
   "pygments_lexer": "ipython3",
   "version": "3.10.14"
  },
  "papermill": {
   "default_parameters": {},
   "duration": 334.246592,
   "end_time": "2024-12-03T09:09:55.832115",
   "environment_variables": {},
   "exception": null,
   "input_path": "__notebook__.ipynb",
   "output_path": "__notebook__.ipynb",
   "parameters": {},
   "start_time": "2024-12-03T09:04:21.585523",
   "version": "2.6.0"
  }
 },
 "nbformat": 4,
 "nbformat_minor": 5
}
